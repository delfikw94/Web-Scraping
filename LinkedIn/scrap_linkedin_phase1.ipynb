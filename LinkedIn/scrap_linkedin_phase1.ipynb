{
 "cells": [
  {
   "cell_type": "markdown",
   "metadata": {},
   "source": [
    "# LinkedIn Scrapping Phase 1 (Scrap the Company URLs)"
   ]
  },
  {
   "cell_type": "markdown",
   "metadata": {},
   "source": [
    "### Import Library"
   ]
  },
  {
   "cell_type": "code",
   "execution_count": 6,
   "metadata": {},
   "outputs": [],
   "source": [
    "# Import Library\n",
    "from selenium import webdriver\n",
    "from selenium.webdriver.chrome.options import Options\n",
    "from selenium.webdriver.common.by import By\n",
    "from selenium.webdriver.common.keys import Keys\n",
    "from time import sleep\n",
    "from bs4 import BeautifulSoup\n",
    "import pandas as pd"
   ]
  },
  {
   "cell_type": "markdown",
   "metadata": {},
   "source": [
    "### Log in Linkedin"
   ]
  },
  {
   "cell_type": "code",
   "execution_count": 7,
   "metadata": {},
   "outputs": [
    {
     "name": "stderr",
     "output_type": "stream",
     "text": [
      "<ipython-input-7-5f7ba323d9ed>:4: DeprecationWarning: executable_path has been deprecated, please pass in a Service object\n",
      "  driver = webdriver.Chrome(r\"C:\\Users\\ddeel\\Local\\chromedriver.exe\", chrome_options=chrome_options)\n",
      "<ipython-input-7-5f7ba323d9ed>:4: DeprecationWarning: use options instead of chrome_options\n",
      "  driver = webdriver.Chrome(r\"C:\\Users\\ddeel\\Local\\chromedriver.exe\", chrome_options=chrome_options)\n",
      "<ipython-input-7-5f7ba323d9ed>:9: DeprecationWarning: find_element_by_* commands are deprecated. Please use find_element() instead\n",
      "  elementID = driver.find_element_by_id(\"username\")\n",
      "<ipython-input-7-5f7ba323d9ed>:14: DeprecationWarning: find_element_by_* commands are deprecated. Please use find_element() instead\n",
      "  elementID = driver.find_element_by_id(\"password\")\n",
      "<ipython-input-7-5f7ba323d9ed>:19: DeprecationWarning: find_element_by_xpath is deprecated. Please use find_element(by=By.XPATH, value=xpath) instead\n",
      "  sign_in_button = driver.find_element_by_xpath('//*[@type=\"submit\"]')\n"
     ]
    }
   ],
   "source": [
    "# Setting browser\n",
    "chrome_options = Options()\n",
    "chrome_options.add_argument(\"--window-size=1920,1080\")\n",
    "# Ganti path dengan lokasi dari chromedriver.exe\n",
    "driver = webdriver.Chrome(r\"C:\\Users\\ddeel\\Local\\chromedriver.exe\", chrome_options=chrome_options)\n",
    "\n",
    "# Masuk ke halaman login LinkedIn\n",
    "driver.get(\"https://www.linkedin.com/login\")\n",
    "\n",
    "# Masukkan username\n",
    "elementID = driver.find_element_by_id(\"username\")\n",
    "elementID.send_keys('_____') # write down your email here\n",
    "\n",
    "# Masukkan password\n",
    "elementID = driver.find_element_by_id(\"password\")\n",
    "elementID.send_keys('_____') # write down the linkedin password here\n",
    "\n",
    "# locate submit button by_xpath\n",
    "sign_in_button = driver.find_element_by_xpath('//*[@type=\"submit\"]')\n",
    "\n",
    "# .click() to mimic button click\n",
    "sign_in_button.click()\n",
    "sleep(1)"
   ]
  },
  {
   "cell_type": "code",
   "execution_count": null,
   "metadata": {},
   "outputs": [],
   "source": [
    "# browser mengarah ke hasil pencarian daftar perusahaan di Indonesia\n",
    "driver.get(\"https://www.linkedin.com/search/results/all/?origin=GLOBAL_SEARCH_HEADER&sid=mgZ\")\n",
    "url  = \"https://www.linkedin.com/search/results/companies/?companyHqGeo=%5B%22102478259%22%5D&origin=FACETED_SEARCH&sid=RGt\"\n",
    "driver.get(url)\n",
    "html = driver.page_source\n",
    "soup = BeautifulSoup(html, \"html.parser\")"
   ]
  },
  {
   "cell_type": "markdown",
   "metadata": {},
   "source": [
    "### Scraping"
   ]
  },
  {
   "cell_type": "markdown",
   "metadata": {},
   "source": [
    "#### Scraping page 1"
   ]
  },
  {
   "cell_type": "code",
   "execution_count": 4,
   "metadata": {},
   "outputs": [],
   "source": [
    "# Persiapkan tabel data untuk menampung hasil scraping\n",
    "data = pd.DataFrame()\n",
    "\n",
    "# Kolom 'Company Name' untuk nama company\n",
    "data['Company Name'] = [name.get_text().strip() for name in soup.find_all('div', class_=\"t-roman t-sans\")]\n",
    "\n",
    "linknodes = driver.find_elements(By.XPATH,\n",
    "                    \"//*[@class='entity-result__content entity-result__divider pt3 pb3 t-12 t-black--light']//span//a\")\n",
    "links = []\n",
    "for node in linknodes:\n",
    "        link = node.get_attribute(\"href\")\n",
    "        links.append(link)\n",
    "\n",
    "# Kolom 'Link' untuk Company URLs\n",
    "data['Link'] = links"
   ]
  },
  {
   "cell_type": "code",
   "execution_count": 22,
   "metadata": {},
   "outputs": [
    {
     "data": {
      "text/html": [
       "<div>\n",
       "<style scoped>\n",
       "    .dataframe tbody tr th:only-of-type {\n",
       "        vertical-align: middle;\n",
       "    }\n",
       "\n",
       "    .dataframe tbody tr th {\n",
       "        vertical-align: top;\n",
       "    }\n",
       "\n",
       "    .dataframe thead th {\n",
       "        text-align: right;\n",
       "    }\n",
       "</style>\n",
       "<table border=\"1\" class=\"dataframe\">\n",
       "  <thead>\n",
       "    <tr style=\"text-align: right;\">\n",
       "      <th></th>\n",
       "      <th>Company Name</th>\n",
       "      <th>Link</th>\n",
       "    </tr>\n",
       "  </thead>\n",
       "  <tbody>\n",
       "    <tr>\n",
       "      <th>0</th>\n",
       "      <td>IBM</td>\n",
       "      <td>https://www.linkedin.com/company/ibm/</td>\n",
       "    </tr>\n",
       "    <tr>\n",
       "      <th>1</th>\n",
       "      <td>Danone</td>\n",
       "      <td>https://www.linkedin.com/company/danone/</td>\n",
       "    </tr>\n",
       "    <tr>\n",
       "      <th>2</th>\n",
       "      <td>ExxonMobil</td>\n",
       "      <td>https://www.linkedin.com/company/exxonmobil/</td>\n",
       "    </tr>\n",
       "    <tr>\n",
       "      <th>3</th>\n",
       "      <td>Shopee</td>\n",
       "      <td>https://www.linkedin.com/company/shopee/</td>\n",
       "    </tr>\n",
       "    <tr>\n",
       "      <th>4</th>\n",
       "      <td>Oracle</td>\n",
       "      <td>https://www.linkedin.com/company/oracle/</td>\n",
       "    </tr>\n",
       "    <tr>\n",
       "      <th>5</th>\n",
       "      <td>Lazada</td>\n",
       "      <td>https://www.linkedin.com/company/lazada/</td>\n",
       "    </tr>\n",
       "    <tr>\n",
       "      <th>6</th>\n",
       "      <td>Tokopedia</td>\n",
       "      <td>https://www.linkedin.com/company/pt--tokopedia/</td>\n",
       "    </tr>\n",
       "    <tr>\n",
       "      <th>7</th>\n",
       "      <td>Gojek</td>\n",
       "      <td>https://www.linkedin.com/company/gojek/</td>\n",
       "    </tr>\n",
       "    <tr>\n",
       "      <th>8</th>\n",
       "      <td>Shell</td>\n",
       "      <td>https://www.linkedin.com/company/shell/</td>\n",
       "    </tr>\n",
       "    <tr>\n",
       "      <th>9</th>\n",
       "      <td>Grab</td>\n",
       "      <td>https://www.linkedin.com/company/grabapp/</td>\n",
       "    </tr>\n",
       "  </tbody>\n",
       "</table>\n",
       "</div>"
      ],
      "text/plain": [
       "  Company Name                                             Link\n",
       "0          IBM            https://www.linkedin.com/company/ibm/\n",
       "1       Danone         https://www.linkedin.com/company/danone/\n",
       "2   ExxonMobil     https://www.linkedin.com/company/exxonmobil/\n",
       "3       Shopee         https://www.linkedin.com/company/shopee/\n",
       "4       Oracle         https://www.linkedin.com/company/oracle/\n",
       "5       Lazada         https://www.linkedin.com/company/lazada/\n",
       "6    Tokopedia  https://www.linkedin.com/company/pt--tokopedia/\n",
       "7        Gojek          https://www.linkedin.com/company/gojek/\n",
       "8        Shell          https://www.linkedin.com/company/shell/\n",
       "9         Grab        https://www.linkedin.com/company/grabapp/"
      ]
     },
     "execution_count": 22,
     "metadata": {},
     "output_type": "execute_result"
    }
   ],
   "source": [
    "# Show scrapped data for the first page\n",
    "data"
   ]
  },
  {
   "cell_type": "markdown",
   "metadata": {},
   "source": [
    "#### Scraping page 2"
   ]
  },
  {
   "cell_type": "code",
   "execution_count": 23,
   "metadata": {},
   "outputs": [],
   "source": [
    "url2 = \"https://www.linkedin.com/search/results/companies/?companyHqGeo=%5B%22102478259%22%5D&origin=FACETED_SEARCH&page=2&sid=!0E\"\n",
    "driver.get(url2)\n",
    "html = driver.page_source\n",
    "soup = BeautifulSoup(html, \"html.parser\")"
   ]
  },
  {
   "cell_type": "code",
   "execution_count": 25,
   "metadata": {},
   "outputs": [
    {
     "data": {
      "text/html": [
       "<div>\n",
       "<style scoped>\n",
       "    .dataframe tbody tr th:only-of-type {\n",
       "        vertical-align: middle;\n",
       "    }\n",
       "\n",
       "    .dataframe tbody tr th {\n",
       "        vertical-align: top;\n",
       "    }\n",
       "\n",
       "    .dataframe thead th {\n",
       "        text-align: right;\n",
       "    }\n",
       "</style>\n",
       "<table border=\"1\" class=\"dataframe\">\n",
       "  <thead>\n",
       "    <tr style=\"text-align: right;\">\n",
       "      <th></th>\n",
       "      <th>Company Name</th>\n",
       "      <th>Link</th>\n",
       "    </tr>\n",
       "  </thead>\n",
       "  <tbody>\n",
       "    <tr>\n",
       "      <th>0</th>\n",
       "      <td>PT HM Sampoerna Tbk.</td>\n",
       "      <td>https://www.linkedin.com/company/pt-hm-sampoer...</td>\n",
       "    </tr>\n",
       "    <tr>\n",
       "      <th>1</th>\n",
       "      <td>Accenture</td>\n",
       "      <td>https://www.linkedin.com/company/accenture/</td>\n",
       "    </tr>\n",
       "    <tr>\n",
       "      <th>2</th>\n",
       "      <td>Sayurbox</td>\n",
       "      <td>https://www.linkedin.com/company/sayurboxoffic...</td>\n",
       "    </tr>\n",
       "    <tr>\n",
       "      <th>3</th>\n",
       "      <td>Boston Consulting Group (BCG)</td>\n",
       "      <td>https://www.linkedin.com/company/boston-consul...</td>\n",
       "    </tr>\n",
       "    <tr>\n",
       "      <th>4</th>\n",
       "      <td>The Kraft Heinz Company</td>\n",
       "      <td>https://www.linkedin.com/company/the-kraft-hei...</td>\n",
       "    </tr>\n",
       "    <tr>\n",
       "      <th>5</th>\n",
       "      <td>Traveloka</td>\n",
       "      <td>https://www.linkedin.com/company/traveloka/</td>\n",
       "    </tr>\n",
       "    <tr>\n",
       "      <th>6</th>\n",
       "      <td>DANA Indonesia</td>\n",
       "      <td>https://www.linkedin.com/company/dana-indonesia/</td>\n",
       "    </tr>\n",
       "    <tr>\n",
       "      <th>7</th>\n",
       "      <td>PT Indofood Sukses Makmur Tbk</td>\n",
       "      <td>https://www.linkedin.com/company/pt-indofood-s...</td>\n",
       "    </tr>\n",
       "    <tr>\n",
       "      <th>8</th>\n",
       "      <td>Gojek Tech</td>\n",
       "      <td>https://www.linkedin.com/company/gojektech/</td>\n",
       "    </tr>\n",
       "    <tr>\n",
       "      <th>9</th>\n",
       "      <td>Institut Teknologi Bandung</td>\n",
       "      <td>https://www.linkedin.com/company/itb/</td>\n",
       "    </tr>\n",
       "  </tbody>\n",
       "</table>\n",
       "</div>"
      ],
      "text/plain": [
       "                    Company Name  \\\n",
       "0           PT HM Sampoerna Tbk.   \n",
       "1                      Accenture   \n",
       "2                       Sayurbox   \n",
       "3  Boston Consulting Group (BCG)   \n",
       "4        The Kraft Heinz Company   \n",
       "5                      Traveloka   \n",
       "6                 DANA Indonesia   \n",
       "7  PT Indofood Sukses Makmur Tbk   \n",
       "8                     Gojek Tech   \n",
       "9     Institut Teknologi Bandung   \n",
       "\n",
       "                                                Link  \n",
       "0  https://www.linkedin.com/company/pt-hm-sampoer...  \n",
       "1        https://www.linkedin.com/company/accenture/  \n",
       "2  https://www.linkedin.com/company/sayurboxoffic...  \n",
       "3  https://www.linkedin.com/company/boston-consul...  \n",
       "4  https://www.linkedin.com/company/the-kraft-hei...  \n",
       "5        https://www.linkedin.com/company/traveloka/  \n",
       "6   https://www.linkedin.com/company/dana-indonesia/  \n",
       "7  https://www.linkedin.com/company/pt-indofood-s...  \n",
       "8        https://www.linkedin.com/company/gojektech/  \n",
       "9              https://www.linkedin.com/company/itb/  "
      ]
     },
     "execution_count": 25,
     "metadata": {},
     "output_type": "execute_result"
    }
   ],
   "source": [
    "data2 = pd.DataFrame()\n",
    "data2['Company Name'] = [name.get_text().strip() for name in soup.find_all('div', class_=\"t-roman t-sans\")]\n",
    "\n",
    "linknodes = driver.find_elements(By.XPATH,\n",
    "                    \"//*[@class='entity-result__content entity-result__divider pt3 pb3 t-12 t-black--light']//span//a\")\n",
    "links = []\n",
    "for node in linknodes:\n",
    "        link = node.get_attribute(\"href\")\n",
    "        links.append(link)\n",
    "\n",
    "data2['Link'] = links\n",
    "data2"
   ]
  },
  {
   "cell_type": "code",
   "execution_count": 26,
   "metadata": {},
   "outputs": [],
   "source": [
    "# merge the table of scrap result from page 1 and page 2\n",
    "df = pd.concat([data,data2], ignore_index=True)"
   ]
  },
  {
   "cell_type": "markdown",
   "metadata": {},
   "source": [
    "#### Scrap page 3"
   ]
  },
  {
   "cell_type": "code",
   "execution_count": 27,
   "metadata": {},
   "outputs": [],
   "source": [
    "url3 = \"https://www.linkedin.com/search/results/companies/?companyHqGeo=%5B%22102478259%22%5D&origin=FACETED_SEARCH&page=3&sid=q%2C%3A\"\n",
    "driver.get(url3)\n",
    "html = driver.page_source\n",
    "soup = BeautifulSoup(html, \"html.parser\")"
   ]
  },
  {
   "cell_type": "code",
   "execution_count": 29,
   "metadata": {},
   "outputs": [],
   "source": [
    "data3 = pd.DataFrame()\n",
    "data3['Company Name'] = [name.get_text().strip() for name in soup.find_all('div', class_=\"t-roman t-sans\")]\n",
    "\n",
    "linknodes = driver.find_elements(By.XPATH,\n",
    "                    \"//*[@class='entity-result__content entity-result__divider pt3 pb3 t-12 t-black--light']//span//a\")\n",
    "links = []\n",
    "for node in linknodes:\n",
    "        link = node.get_attribute(\"href\")\n",
    "        links.append(link)\n",
    "\n",
    "links\n",
    "\n",
    "data3['Link'] = links"
   ]
  },
  {
   "cell_type": "code",
   "execution_count": 30,
   "metadata": {},
   "outputs": [],
   "source": [
    "# Merge with scrap data from page 3\n",
    "df = pd.concat([df,data3], ignore_index=True)"
   ]
  },
  {
   "cell_type": "markdown",
   "metadata": {},
   "source": [
    "#### Scrap page 4 - 100"
   ]
  },
  {
   "cell_type": "code",
   "execution_count": 31,
   "metadata": {},
   "outputs": [],
   "source": [
    "# List untuk menampung hasil scrapping dari proses iterasi\n",
    "name = []\n",
    "links = []\n",
    "\n",
    "for i in range(4,101):\n",
    "    url=\"https://www.linkedin.com/search/results/companies/?companyHqGeo=%5B%22102478259%22%5D&origin=FACETED_SEARCH&page={}\".format(i)\n",
    "    driver.get(url)\n",
    "    html = driver.page_source\n",
    "    soup = BeautifulSoup(html, \"html.parser\") \n",
    "    \n",
    "    name += [name.get_text().strip() for name in soup.find_all('div', class_=\"t-roman t-sans\")]\n",
    "\n",
    "    linknodes = driver.find_elements(By.XPATH,\"//*[@class='entity-result__content entity-result__divider pt3 pb3 t-12 t-black--light']//span//a\")\n",
    "    for node in linknodes:\n",
    "        link = node.get_attribute(\"href\")\n",
    "        links.append(link)"
   ]
  },
  {
   "cell_type": "code",
   "execution_count": 35,
   "metadata": {},
   "outputs": [],
   "source": [
    "# Merge with data from all pages\n",
    "data4 = pd.DataFrame()\n",
    "data4['Company Name'] = name\n",
    "data4['Link'] = links\n",
    "df = pd.concat([df,data4], ignore_index=True)"
   ]
  },
  {
   "cell_type": "markdown",
   "metadata": {},
   "source": [
    "### Result"
   ]
  },
  {
   "cell_type": "code",
   "execution_count": 36,
   "metadata": {},
   "outputs": [
    {
     "data": {
      "text/html": [
       "<div>\n",
       "<style scoped>\n",
       "    .dataframe tbody tr th:only-of-type {\n",
       "        vertical-align: middle;\n",
       "    }\n",
       "\n",
       "    .dataframe tbody tr th {\n",
       "        vertical-align: top;\n",
       "    }\n",
       "\n",
       "    .dataframe thead th {\n",
       "        text-align: right;\n",
       "    }\n",
       "</style>\n",
       "<table border=\"1\" class=\"dataframe\">\n",
       "  <thead>\n",
       "    <tr style=\"text-align: right;\">\n",
       "      <th></th>\n",
       "      <th>Company Name</th>\n",
       "      <th>Link</th>\n",
       "    </tr>\n",
       "  </thead>\n",
       "  <tbody>\n",
       "    <tr>\n",
       "      <th>0</th>\n",
       "      <td>IBM</td>\n",
       "      <td>https://www.linkedin.com/company/ibm/</td>\n",
       "    </tr>\n",
       "    <tr>\n",
       "      <th>1</th>\n",
       "      <td>Danone</td>\n",
       "      <td>https://www.linkedin.com/company/danone/</td>\n",
       "    </tr>\n",
       "    <tr>\n",
       "      <th>2</th>\n",
       "      <td>ExxonMobil</td>\n",
       "      <td>https://www.linkedin.com/company/exxonmobil/</td>\n",
       "    </tr>\n",
       "    <tr>\n",
       "      <th>3</th>\n",
       "      <td>Shopee</td>\n",
       "      <td>https://www.linkedin.com/company/shopee/</td>\n",
       "    </tr>\n",
       "    <tr>\n",
       "      <th>4</th>\n",
       "      <td>Oracle</td>\n",
       "      <td>https://www.linkedin.com/company/oracle/</td>\n",
       "    </tr>\n",
       "    <tr>\n",
       "      <th>...</th>\n",
       "      <td>...</td>\n",
       "      <td>...</td>\n",
       "    </tr>\n",
       "    <tr>\n",
       "      <th>995</th>\n",
       "      <td>FKS Group</td>\n",
       "      <td>https://www.linkedin.com/company/fks-group-ind...</td>\n",
       "    </tr>\n",
       "    <tr>\n",
       "      <th>996</th>\n",
       "      <td>PT. MNC Sky Vision</td>\n",
       "      <td>https://www.linkedin.com/company/pt.-mnc-sky-v...</td>\n",
       "    </tr>\n",
       "    <tr>\n",
       "      <th>997</th>\n",
       "      <td>Finmas</td>\n",
       "      <td>https://www.linkedin.com/company/finmas-id/</td>\n",
       "    </tr>\n",
       "    <tr>\n",
       "      <th>998</th>\n",
       "      <td>PT Bintang Toedjoe</td>\n",
       "      <td>https://www.linkedin.com/company/pt-bintang-to...</td>\n",
       "    </tr>\n",
       "    <tr>\n",
       "      <th>999</th>\n",
       "      <td>Universitas Sam Ratulangi</td>\n",
       "      <td>https://www.linkedin.com/company/universitas-s...</td>\n",
       "    </tr>\n",
       "  </tbody>\n",
       "</table>\n",
       "<p>1000 rows × 2 columns</p>\n",
       "</div>"
      ],
      "text/plain": [
       "                  Company Name  \\\n",
       "0                          IBM   \n",
       "1                       Danone   \n",
       "2                   ExxonMobil   \n",
       "3                       Shopee   \n",
       "4                       Oracle   \n",
       "..                         ...   \n",
       "995                  FKS Group   \n",
       "996         PT. MNC Sky Vision   \n",
       "997                     Finmas   \n",
       "998         PT Bintang Toedjoe   \n",
       "999  Universitas Sam Ratulangi   \n",
       "\n",
       "                                                  Link  \n",
       "0                https://www.linkedin.com/company/ibm/  \n",
       "1             https://www.linkedin.com/company/danone/  \n",
       "2         https://www.linkedin.com/company/exxonmobil/  \n",
       "3             https://www.linkedin.com/company/shopee/  \n",
       "4             https://www.linkedin.com/company/oracle/  \n",
       "..                                                 ...  \n",
       "995  https://www.linkedin.com/company/fks-group-ind...  \n",
       "996  https://www.linkedin.com/company/pt.-mnc-sky-v...  \n",
       "997        https://www.linkedin.com/company/finmas-id/  \n",
       "998  https://www.linkedin.com/company/pt-bintang-to...  \n",
       "999  https://www.linkedin.com/company/universitas-s...  \n",
       "\n",
       "[1000 rows x 2 columns]"
      ]
     },
     "execution_count": 36,
     "metadata": {},
     "output_type": "execute_result"
    }
   ],
   "source": [
    "# Show dataframe result\n",
    "df"
   ]
  },
  {
   "cell_type": "code",
   "execution_count": 37,
   "metadata": {},
   "outputs": [
    {
     "name": "stderr",
     "output_type": "stream",
     "text": [
      "C:\\Users\\ddeel\\anaconda3\\lib\\site-packages\\pandas\\compat\\_optional.py:123: UserWarning: Pandas requires version '1.0.2' or newer of 'xlsxwriter' (version '0.7.3' currently installed).\n",
      "  warnings.warn(msg, UserWarning)\n"
     ]
    }
   ],
   "source": [
    "# Export the tabel result into excel file\n",
    "df.to_excel(\"output.xlsx\")"
   ]
  }
 ],
 "metadata": {
  "interpreter": {
   "hash": "adf0d0f455a2e4970ec8799375c42b2723a3fed26b97e4246df55536fe16de4e"
  },
  "kernelspec": {
   "display_name": "Python 3.8.8 ('base')",
   "language": "python",
   "name": "python3"
  },
  "language_info": {
   "codemirror_mode": {
    "name": "ipython",
    "version": 3
   },
   "file_extension": ".py",
   "mimetype": "text/x-python",
   "name": "python",
   "nbconvert_exporter": "python",
   "pygments_lexer": "ipython3",
   "version": "3.8.8"
  },
  "orig_nbformat": 4
 },
 "nbformat": 4,
 "nbformat_minor": 2
}
