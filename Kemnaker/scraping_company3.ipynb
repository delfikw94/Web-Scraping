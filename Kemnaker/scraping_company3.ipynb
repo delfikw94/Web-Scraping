{
 "cells": [
  {
   "cell_type": "code",
   "execution_count": 1,
   "metadata": {},
   "outputs": [],
   "source": [
    "# Import Library\n",
    "from selenium import webdriver\n",
    "from selenium.webdriver.chrome.options import Options\n",
    "from selenium.webdriver.common.by import By\n",
    "from selenium.webdriver.support.ui import WebDriverWait\n",
    "from selenium.webdriver.support import expected_conditions as EC\n",
    "from time import sleep\n",
    "import requests\n",
    "import pandas as pd\n",
    "import re"
   ]
  },
  {
   "cell_type": "code",
   "execution_count": 2,
   "metadata": {},
   "outputs": [
    {
     "data": {
      "text/plain": [
       "<Response [200]>"
      ]
     },
     "execution_count": 2,
     "metadata": {},
     "output_type": "execute_result"
    }
   ],
   "source": [
    "# ngetes response server web nya bisa di scraping atau ngga (target: Response[200])\n",
    "url = \"https://karirhub.kemnaker.go.id/\"\n",
    "page = requests.get(url)\n",
    "page"
   ]
  },
  {
   "cell_type": "code",
   "execution_count": 3,
   "metadata": {},
   "outputs": [
    {
     "name": "stderr",
     "output_type": "stream",
     "text": [
      "<ipython-input-3-45a9242a4d63>:6: DeprecationWarning: executable_path has been deprecated, please pass in a Service object\n",
      "  driver = webdriver.Chrome(r\"C:\\Users\\ddeel\\Local\\KerjaKerjaKerja\\chromedriver.exe\", chrome_options=chrome_options)\n",
      "<ipython-input-3-45a9242a4d63>:6: DeprecationWarning: use options instead of chrome_options\n",
      "  driver = webdriver.Chrome(r\"C:\\Users\\ddeel\\Local\\KerjaKerjaKerja\\chromedriver.exe\", chrome_options=chrome_options)\n"
     ]
    }
   ],
   "source": [
    "# Setting browser\n",
    "chrome_options = Options()\n",
    "chrome_options.add_argument(\"--window-size=1280,960\")\n",
    "\n",
    "# Ganti path dengan lokasi dari chromedriver.exe\n",
    "driver = webdriver.Chrome(r\"C:\\Users\\ddeel\\Local\\KerjaKerjaKerja\\chromedriver.exe\", chrome_options=chrome_options)\n",
    "driver.get(url)\n",
    "sleep(3)"
   ]
  },
  {
   "cell_type": "code",
   "execution_count": 4,
   "metadata": {},
   "outputs": [
    {
     "name": "stderr",
     "output_type": "stream",
     "text": [
      "<ipython-input-4-ca38a5ed9dc5>:1: DeprecationWarning: find_element_by_link_text is deprecated. Please use find_element(by=By.LINK_TEXT, value=link_text) instead\n",
      "  driver.find_element_by_link_text(\"Perusahaan\").click()\n"
     ]
    }
   ],
   "source": [
    "driver.find_element_by_link_text(\"Perusahaan\").click()"
   ]
  },
  {
   "cell_type": "code",
   "execution_count": 5,
   "metadata": {},
   "outputs": [],
   "source": [
    "links = []\n",
    "# Scraping link page dari tiap company nya\n",
    "for i in range(1,112): # kalau scrapnya mau dikit\", range nya dikurangin aja\n",
    "    url=\"https://karirhub.kemnaker.go.id/companies?page={}\".format(i)\n",
    "    driver.get(url)\n",
    "    sleep(5)\n",
    "    linknodes = driver.find_elements(By.XPATH, \"//*[@class='company-upper-text']//a\")\n",
    "    for node in linknodes:\n",
    "        link = node.get_attribute(\"href\")\n",
    "        links.append(link)\n",
    "    sleep(2)"
   ]
  },
  {
   "cell_type": "code",
   "execution_count": 6,
   "metadata": {},
   "outputs": [
    {
     "name": "stdout",
     "output_type": "stream",
     "text": [
      "Jumlah company : 998\n"
     ]
    }
   ],
   "source": [
    "print(\"Jumlah company :\",len(links))"
   ]
  },
  {
   "cell_type": "code",
   "execution_count": 9,
   "metadata": {},
   "outputs": [],
   "source": [
    "q1 = links[0:250]\n",
    "q2 = links[250:500]\n",
    "q3 = links[500:750]\n",
    "q4 = links[750:998]"
   ]
  },
  {
   "cell_type": "code",
   "execution_count": 12,
   "metadata": {},
   "outputs": [],
   "source": [
    "# Buat list untuk menampung hasil scraping\n",
    "company_names = []\n",
    "descriptions = []\n",
    "industries = []\n",
    "addresses = []\n",
    "locations = []\n",
    "phones = []\n",
    "emails = []\n",
    "websites = []"
   ]
  },
  {
   "cell_type": "code",
   "execution_count": 26,
   "metadata": {},
   "outputs": [],
   "source": [
    "# Fungsi buat scraping company info nya\n",
    "# WARNING! will take a lot of time for running (tergantung internet speed & jumlah links)\n",
    "def scrap(taut):\n",
    "    for i in taut:\n",
    "        url = i\n",
    "        driver.get(url)\n",
    "        sleep(7) # Bagian ini kalau internetnya cepet bisa diganti jadi 5 detik aja\n",
    "        try:\n",
    "            nama = WebDriverWait(driver, 5).until(EC.presence_of_element_located((\n",
    "                    By.CSS_SELECTOR, \"h2[class='company-name']\"))).text\n",
    "            company_names.append(nama)\n",
    "        except:\n",
    "            pass\n",
    "        sleep(1)\n",
    "        try:\n",
    "            desc = WebDriverWait(driver, 5).until(EC.presence_of_element_located((\n",
    "                    By.CSS_SELECTOR, \"p[class='text-muted profile-description']\"))).text\n",
    "            descriptions.append(desc)\n",
    "        except:\n",
    "            pass\n",
    "            descriptions.append(\"\")\n",
    "        sleep(1)\n",
    "        try:\n",
    "            ind = WebDriverWait(driver, 5).until(EC.presence_of_element_located((\n",
    "                    By.CSS_SELECTOR, \"label[class='company-business']\"))).text\n",
    "            industries.append(ind)\n",
    "        except:\n",
    "            pass\n",
    "            industries.append(\"\")\n",
    "        sleep(1)\n",
    "        try:\n",
    "            alamat = WebDriverWait(driver, 5).until(EC.presence_of_element_located((\n",
    "                    By.CSS_SELECTOR, \"div[class='profile-detail-location-container']>p\"))).text\n",
    "            addresses.append(alamat)\n",
    "        except:\n",
    "            pass\n",
    "            addresses.append(\"\")\n",
    "        sleep(1)\n",
    "        try:\n",
    "            lok = WebDriverWait(driver, 5).until(EC.presence_of_element_located((\n",
    "                    By.CSS_SELECTOR, \"label[class='company-location text-muted']\"))).text\n",
    "            locations.append(lok)\n",
    "        except:\n",
    "            pass\n",
    "            locations.append(\"\")\n",
    "        sleep(1)\n",
    "        kontak = WebDriverWait(driver, 5).until(EC.presence_of_element_located((\n",
    "                    By.CSS_SELECTOR, \"div[class='d-flex flex-column flex-md-row align-items-start align-items-md-center']\"))).text\n",
    "        try:\n",
    "            phone = re.split('\\n', kontak)[0].strip()\n",
    "            phones.append(phone)\n",
    "        except:\n",
    "            pass\n",
    "            phones.append(\"\")\n",
    "        sleep(1)\n",
    "        try:\n",
    "            email = re.split('\\n', kontak)[1].strip()\n",
    "            emails.append(email)\n",
    "        except:\n",
    "            pass\n",
    "            emails.append(\"\")\n",
    "        sleep(1)\n",
    "        try:\n",
    "            website = re.split('\\n', kontak)[2].strip()\n",
    "            websites.append(website)\n",
    "        except:\n",
    "            pass\n",
    "            websites.append(\"\")\n",
    "        sleep(1)"
   ]
  },
  {
   "cell_type": "code",
   "execution_count": 14,
   "metadata": {},
   "outputs": [],
   "source": [
    "# Estimated running time : 1 hour\n",
    "scrap(q1)"
   ]
  },
  {
   "cell_type": "code",
   "execution_count": 27,
   "metadata": {},
   "outputs": [],
   "source": [
    "scrap(q2)"
   ]
  },
  {
   "cell_type": "code",
   "execution_count": 33,
   "metadata": {},
   "outputs": [],
   "source": [
    "scrap(q3)"
   ]
  },
  {
   "cell_type": "code",
   "execution_count": 72,
   "metadata": {},
   "outputs": [],
   "source": [
    "scrap(q4)"
   ]
  },
  {
   "cell_type": "code",
   "execution_count": 82,
   "metadata": {},
   "outputs": [],
   "source": [
    "# input hasil scraping ke dataframe pandas\n",
    "df = pd.DataFrame()\n",
    "df['Company Name'] = company_names\n",
    "df['Description'] = descriptions\n",
    "df['Industry'] = industries\n",
    "df['Address'] = addresses\n",
    "df['Location'] = locations\n",
    "df['Phone'] = phones\n",
    "df['E-mail'] = emails\n",
    "df['Website'] = websites"
   ]
  },
  {
   "cell_type": "code",
   "execution_count": 83,
   "metadata": {},
   "outputs": [
    {
     "name": "stderr",
     "output_type": "stream",
     "text": [
      "C:\\Users\\ddeel\\anaconda3\\lib\\site-packages\\pandas\\compat\\_optional.py:123: UserWarning: Pandas requires version '1.0.2' or newer of 'xlsxwriter' (version '0.7.3' currently installed).\n",
      "  warnings.warn(msg, UserWarning)\n"
     ]
    }
   ],
   "source": [
    "df.to_excel('output.xlsx')"
   ]
  }
 ],
 "metadata": {
  "interpreter": {
   "hash": "adf0d0f455a2e4970ec8799375c42b2723a3fed26b97e4246df55536fe16de4e"
  },
  "kernelspec": {
   "display_name": "Python 3.8.8 ('base')",
   "language": "python",
   "name": "python3"
  },
  "language_info": {
   "codemirror_mode": {
    "name": "ipython",
    "version": 3
   },
   "file_extension": ".py",
   "mimetype": "text/x-python",
   "name": "python",
   "nbconvert_exporter": "python",
   "pygments_lexer": "ipython3",
   "version": "3.8.8"
  },
  "orig_nbformat": 4
 },
 "nbformat": 4,
 "nbformat_minor": 2
}
